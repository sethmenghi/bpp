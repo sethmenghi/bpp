{
 "cells": [
  {
   "cell_type": "code",
   "execution_count": 1,
   "metadata": {
    "collapsed": false
   },
   "outputs": [
    {
     "ename": "SyntaxError",
     "evalue": "invalid syntax (dataset.py, line 102)",
     "output_type": "error",
     "traceback": [
      "\u001b[0;36m  File \u001b[0;32m\"dataset.py\"\u001b[0;36m, line \u001b[0;32m102\u001b[0m\n\u001b[0;31m    attribute = BinaryAttribute(name=attribute.name)\u001b[0m\n\u001b[0m            ^\u001b[0m\n\u001b[0;31mSyntaxError\u001b[0m\u001b[0;31m:\u001b[0m invalid syntax\n"
     ]
    }
   ],
   "source": [
    "from p4 import create_dataset\n",
    "from traintestsets import TrainTestSets\n",
    "from attribute import BinaryAttribute"
   ]
  },
  {
   "cell_type": "code",
   "execution_count": null,
   "metadata": {
    "collapsed": false
   },
   "outputs": [],
   "source": [
    "from os.path import exists\n",
    "mushrooms = 'tests/test_data/mushroom.mff'\n",
    "assert(exists(mushrooms)) \n",
    "train = create_dataset(trainfile=mushrooms)"
   ]
  },
  {
   "cell_type": "code",
   "execution_count": null,
   "metadata": {
    "collapsed": false
   },
   "outputs": [],
   "source": [
    "dataset = train.train"
   ]
  },
  {
   "cell_type": "code",
   "execution_count": null,
   "metadata": {
    "collapsed": false
   },
   "outputs": [],
   "source": [
    "dataset.nominal_to_binary()\n",
    "b = dataset.binary_attributes\n",
    "# current_attributes = 0\n",
    "# for i, a in enumerate(dataset.attributes):\n",
    "#     print(a, len(a.domain))\n",
    "# #     c = len(a.domain) / 2 + len(a.domain) % 2\n",
    "# #     for i in xrange(current_attributes, current_attributes + c):\n",
    "# #         print(b[i])\n",
    "#     for k in xrange(current_attributes, current_attributes + len(a.domain)):\n",
    "#         if isinstance(b[k], BinaryAttribute):\n",
    "#             print(b[k], b[k].place, b[k].value)\n",
    "#         else:\n",
    "#             current_attributes -= 1\n",
    "#     current_attributes = current_attributes + len(a.domain)\n",
    "#     # current_attributes = c + current_attributes"
   ]
  },
  {
   "cell_type": "code",
   "execution_count": null,
   "metadata": {
    "collapsed": false
   },
   "outputs": [],
   "source": [
    "# convert examples to binary\n",
    "examples = dataset.examples"
   ]
  },
  {
   "cell_type": "code",
   "execution_count": null,
   "metadata": {
    "collapsed": false,
    "scrolled": true
   },
   "outputs": [],
   "source": []
  },
  {
   "cell_type": "code",
   "execution_count": null,
   "metadata": {
    "collapsed": false
   },
   "outputs": [],
   "source": []
  },
  {
   "cell_type": "code",
   "execution_count": null,
   "metadata": {
    "collapsed": true
   },
   "outputs": [],
   "source": []
  }
 ],
 "metadata": {
  "kernelspec": {
   "display_name": "Python 2",
   "language": "python",
   "name": "python2"
  },
  "language_info": {
   "codemirror_mode": {
    "name": "ipython",
    "version": 2
   },
   "file_extension": ".py",
   "mimetype": "text/x-python",
   "name": "python",
   "nbconvert_exporter": "python",
   "pygments_lexer": "ipython2",
   "version": "2.7.11"
  }
 },
 "nbformat": 4,
 "nbformat_minor": 0
}
